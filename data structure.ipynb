{
 "cells": [
  {
   "cell_type": "markdown",
   "id": "71ea89c1-f06c-4ac2-8416-f441e3e34125",
   "metadata": {},
   "source": [
    "#  Data Types and Structures Questions\r\n"
   ]
  },
  {
   "cell_type": "markdown",
   "id": "04342c0e-aae1-4d9c-9cc7-8409bc23ad45",
   "metadata": {},
   "source": [
    "# 1. What are data structures, and why are they important?"
   ]
  },
  {
   "cell_type": "markdown",
   "id": "22dd0c60-dd87-4822-b213-b0e82648ef26",
   "metadata": {},
   "source": [
    "# Ans>>\n",
    "A data structure is a way of organizing, storing, and managing data so that it can be accessed and modified efficiently. It provides a systematic way to handle data, making operations like searching, sorting, inserting, and deleting more efficient.\n",
    "They  are important bcoz:-\n",
    "* Improve Efficiency – They optimize data operations like searching and sorting.\n",
    "* Enhance Performance – Efficient data structures reduce time and memory usages.\n",
    "* Help in Problem Solving – Many algorithms rely on data structures for efficient execution.\n",
    "* Enable Scalability – They help in managing large-scale applications smoothly."
   ]
  },
  {
   "cell_type": "markdown",
   "id": "690aed3f-3fee-43d9-8b78-dde3094413df",
   "metadata": {},
   "source": [
    "# 2. Explain the difference between mutable and immutable data types with examples:-"
   ]
  },
  {
   "cell_type": "markdown",
   "id": "4e71e204-075e-4173-8c86-79872d36ec1f",
   "metadata": {},
   "source": [
    "# Ans-\n",
    "In Python, data types are classified as mutable and immutable based on whether their values can be changed after creation.\n",
    "* Mutable Data Types (Can be Changed)\n",
    "    These data types allow modification without changing their memory reference.\n",
    "    Can be changed after creation.\n",
    "    Supports in-place modification\n",
    "    Can be changed in place (e.g., list, dict, set).\n",
    "* Immutable Data Types (Cannot be Changed)\n",
    "    Once created, their values cannot be modified. If you try to modify them, a new object is created.\n",
    "    Cannot be changed, new object is created (e.g., str, tuple, int)"
   ]
  },
  {
   "cell_type": "code",
   "execution_count": 3,
   "id": "c2111f09-2462-40c9-b3f9-c542e89b0292",
   "metadata": {},
   "outputs": [
    {
     "name": "stdout",
     "output_type": "stream",
     "text": [
      "2862895716992\n",
      "[1, 2, 3, 4]\n",
      "2862895716992\n",
      "2862891265328\n",
      "Hello World\n",
      "2862891269232\n"
     ]
    }
   ],
   "source": [
    "# for example of Mutable\n",
    "my_list = [1, 2, 3]\n",
    "print(id(my_list))  \n",
    "\n",
    "my_list.append(4)  \n",
    "print(my_list)      \n",
    "print(id(my_list))  \n",
    "\n",
    "\n",
    "# Immutable example\n",
    "my_string = \"Hello\"\n",
    "print(id(my_string))  \n",
    "\n",
    "my_string += \" World\"  \n",
    "print(my_string)       \n",
    "print(id(my_string))   \n",
    "\n"
   ]
  },
  {
   "cell_type": "markdown",
   "id": "f4d47e38-b209-49d4-b0d2-e036131fcb3e",
   "metadata": {},
   "source": [
    "# 3. What are the main differences between lists and tuples in Python?"
   ]
  },
  {
   "cell_type": "markdown",
   "id": "4b133678-8408-42a4-8992-821e4435dd5f",
   "metadata": {},
   "source": [
    "# Ans-\n",
    "Both lists and tuples are used to store collections of items in Python, but they have some important differences:\n",
    "* lists:-\n",
    "    Mutable, meaning you can modify, add, or remove elements.\n",
    "    Uses square brackets [ ].\n",
    "    Slightly slower as they are mutable and require more memory management.\n",
    "    Uses more memory as it allows dynamic resizing.\n",
    "    We use Lists when we need to modify, add, or remove elements frequently.\n",
    "*  tuples:-\n",
    "     Immutable, meaning once created, its elements cannot be changed.\n",
    "     Faster than lists because they are immutable, allowing Python to optimize them.\n",
    "     Uses less memory as it has fixed size.\n",
    "     we use Tuples when we need a constant set of values that should not change (e.g., coordinates, database records)."
   ]
  },
  {
   "cell_type": "markdown",
   "id": "28c79b3d-fb68-4023-923f-583b033c7bcd",
   "metadata": {},
   "source": [
    "# 4. Describe how dictionaries store dataP\n"
   ]
  },
  {
   "cell_type": "markdown",
   "id": "21990ca7-8ae6-4b7f-baa9-503df3c35293",
   "metadata": {},
   "source": [
    "# Ans-\n",
    "Python dictionaries (dict) store data as key-value pairs using a hash table. Each key is hashed to generate a unique index, where the corresponding value is stored.\n",
    "* Key Concepts:\n",
    " Hashing: The hash() function computes a unique number for each key.\n",
    " Buckets: The dictionary maintains an internal array where key-value pairs are stored.\n",
    " Collision Handling: If two keys produce the same hash, Python resolves it using techniques like chaining or probing.\n",
    " Fast Access: Lookups, insertions, and deletions take O(1) time on average."
   ]
  },
  {
   "cell_type": "markdown",
   "id": "19eadc4f-c4ac-47b5-8f69-dc21372769a6",
   "metadata": {},
   "source": [
    "# 5. Why might you use a set instead of a list in Python?"
   ]
  },
  {
   "cell_type": "markdown",
   "id": "4be5fb2f-d094-4bad-8efa-72aa1e364cd5",
   "metadata": {},
   "source": [
    "# Ans-\n",
    "A set is faster and ensures unique elements, while a list maintains order and allows duplicates.\n",
    "Key Advantages of Sets Over Lists:\n",
    "* No Duplicates – Automatically removes duplicate values.\n",
    "* Faster Lookups (O(1)) – Uses a hash table, whereas lists require O(n) time.\n",
    "* Efficient Set Operations – Supports quick union (|), intersection (&), and difference (-).\n",
    "* Memory Efficient – Stores only unique elements, reducing space usage."
   ]
  },
  {
   "cell_type": "markdown",
   "id": "3b086a6c-d2c5-4dd8-95d6-286252166d8f",
   "metadata": {},
   "source": [
    "# 6. What is a string in Python, and how is it different from a list?"
   ]
  },
  {
   "cell_type": "markdown",
   "id": "19c6e448-56b3-4245-8572-1990bfa65397",
   "metadata": {},
   "source": [
    "# Ans-\n",
    "A string in Python is a sequence of characters enclosed in single ('), double (\"), or triple (''' or \"\"\") quotes. Strings are immutable, meaning they cannot be changed after creation.\n",
    "It is different from a list:-\n",
    "* Immutable (cannot be changed)\n",
    "* Only characters\n",
    "* Cannot change a character directly\n",
    "* Can be iterated character by character\n",
    "* Done using + (creates a new string)"
   ]
  },
  {
   "cell_type": "markdown",
   "id": "31e65771-0666-45e7-87a5-50565a37e0d5",
   "metadata": {},
   "source": [
    "# 7. How do tuples ensure data integrity in Python?"
   ]
  },
  {
   "cell_type": "markdown",
   "id": "7b37aa39-2daf-4427-b5b3-b898eff62bc2",
   "metadata": {},
   "source": [
    "# Ans-\n",
    "A tuple in Python is an immutable sequence, meaning its elements cannot be modified, added, or removed after creation. This immutability ensures data integrity in several ways:-\n",
    "* Immutable – Tuples cannot be modified, preventing accidental changes.\n",
    "* Thread-Safe – Safe for multi-threading since data remains consistent.\n",
    "* Reliable Dictionary Keys – Can be used as keys in dictionaries because they don’t change"
   ]
  },
  {
   "cell_type": "markdown",
   "id": "77cfbbc8-a2ec-4709-99a0-5c2b7459262f",
   "metadata": {},
   "source": [
    "# 8. What is a hash table, and how does it relate to dictionaries in Python?"
   ]
  },
  {
   "cell_type": "markdown",
   "id": "e62ba5d2-b71e-44e3-a3b6-44762dca5875",
   "metadata": {},
   "source": [
    "# Ans-\n",
    "A hash table is a data structure that stores key-value pairs using a hashing function to map keys to unique memory locations (buckets). It enables fast lookups, insertions, and deletions (O(1) on average).\n",
    "It is related to dictionaries in python through,\n",
    "Python’s dictionary (dict) is implemented using a hash table internally. When you store a key-value pair in a dictionary:\n",
    "The key is passed through a hash function, which generates a unique index.\n",
    "The value is stored at that index in memory.\n",
    "When you access the value using the key, Python quickly retrieves it using the same hash function.\n",
    "Because of this, dictionaries in Python provide fast lookups, insertions, and deletions, making them a powerful and efficient data structure for managing key-value mappings."
   ]
  },
  {
   "cell_type": "markdown",
   "id": "0239717a-6870-4b99-95bb-d39a90b97cb8",
   "metadata": {},
   "source": [
    "# 9. Can lists contain different data types in Python?"
   ]
  },
  {
   "cell_type": "markdown",
   "id": "0036a27c-8fe7-49da-8781-aa3ad4ea38fc",
   "metadata": {},
   "source": [
    "# Ans-\n",
    "Yes in Python , lists can contain different data types. Python lists are heterogeneous, meaning they can store elements of various types, such as integers, floats, strings, booleans, other lists, and even objects."
   ]
  },
  {
   "cell_type": "markdown",
   "id": "f1ed6aca-d525-43d8-bd1a-dd527c7cb075",
   "metadata": {},
   "source": [
    "# 10. Explain why strings are immutable in Python?"
   ]
  },
  {
   "cell_type": "markdown",
   "id": "76acf529-27be-4cc4-9021-6fe2f3605f3b",
   "metadata": {},
   "source": [
    "# Ans-\n",
    "In Python, strings are immutable, meaning once a string is created, it cannot be changed. Any operation that modifies a string actually creates a new string object rather than altering the original one.\n",
    "Reasons for String Immutability are \n",
    "* Memory Efficiency\n",
    "* Security & Hashing\n",
    "* Thread Safety\n",
    "* Simplifies Debugging"
   ]
  },
  {
   "cell_type": "markdown",
   "id": "a9e89a4a-0670-4926-bc65-438464dd6823",
   "metadata": {},
   "source": [
    "# 11. What advantages do dictionaries offer over lists for certain tasks?\n"
   ]
  },
  {
   "cell_type": "markdown",
   "id": "c2a3acc3-f85f-4bcc-80bd-d4385386956a",
   "metadata": {},
   "source": [
    "# Ans-\n",
    "Dictionaries offer several advantages over lists for certain tasks, mainly due to their key-value pair structure and efficient lookups.\n",
    "and here are some advantage of dictionaries over lists:-\n",
    "* Faster Lookups (O(1) Time Complexity)\n",
    "* Meaningful Data Access\n",
    "* No Need for Sequential Storage\n",
    "* Eliminates Duplicates Using Unique Keys"
   ]
  },
  {
   "cell_type": "markdown",
   "id": "7894f1a6-583c-4412-8367-85862e4b4331",
   "metadata": {},
   "source": [
    "# 12. Describe a scenario where using a tuple would be preferable over a list?"
   ]
  },
  {
   "cell_type": "markdown",
   "id": "feb7b8f3-0051-47c7-a229-0f1fbb61fd83",
   "metadata": {},
   "source": [
    "# Ans-\n",
    "A tuple is preferable over a list when you need to store fixed, unchangeable data that should not be modified accidentally.\n",
    "and here is a scenario where a tuple would be preferable over a list:-\n",
    "Imagine we  are developing a map application, and we need to store latitude and longitude for a specific location. Since these values should not change, a tuple is a better choice than a list.and there is lots of scenario where we  use tuple over lists."
   ]
  },
  {
   "cell_type": "markdown",
   "id": "818e6151-fe76-431f-87e7-4f8e13d6517c",
   "metadata": {},
   "source": [
    "# 13.  How do sets handle duplicate values in Python?"
   ]
  },
  {
   "cell_type": "markdown",
   "id": "56f2dfee-d1b1-4c3c-87c8-1a72ff019864",
   "metadata": {},
   "source": [
    "# Ans-\n",
    "A set is an unordered collection of unique elements, meaning that even if you try to add duplicate values, only one instance of each unique value is stored.It automatically remove duplicate values when elements are added."
   ]
  },
  {
   "cell_type": "markdown",
   "id": "fecc0852-a9ba-49de-be0f-08b9d4ff8c51",
   "metadata": {},
   "source": [
    "# 14.  How does the “in” keyword work differently for lists and dictionaries?"
   ]
  },
  {
   "cell_type": "markdown",
   "id": "3cea9601-ad60-4f1b-a97f-34267437a1b1",
   "metadata": {},
   "source": [
    "# Ans-\n",
    "The 'in' keyword is used to check membership in both lists and dictionaries, but it works differently for each others:\n",
    "* In lists:-\n",
    "  Python iterates through the list element by element until it finds a match.\n",
    "  This results in O(n) time complexity in the worst case.\n",
    "  Yes, directly check the element\n",
    "* In dictionaries:-\n",
    "   it  checks only keys, not values.\n",
    "  Dictionary lookups use a hash table, which provides an average O(1) time complexity for key lookups.\n",
    "  Use .values() for checking the element."
   ]
  },
  {
   "cell_type": "markdown",
   "id": "d0223d8b-d272-4dff-9419-a7e8cfbaf446",
   "metadata": {},
   "source": [
    "# 15. Can you modify the elements of a tuple? Explain why or why notP"
   ]
  },
  {
   "cell_type": "markdown",
   "id": "817a683d-64bf-49bb-9ccb-2a60d6fa8ff0",
   "metadata": {},
   "source": [
    "# Ans-\n",
    "Yes  tuples are immutable, we cannot modify them directly, but we can convert them into a list, make changes, and then convert them back into a tuple."
   ]
  },
  {
   "cell_type": "markdown",
   "id": "3005c535-d768-4fc3-a528-c513d839697d",
   "metadata": {},
   "source": [
    "# 16.  What is a nested dictionary, and give an example of its use case?"
   ]
  },
  {
   "cell_type": "markdown",
   "id": "7f399266-349a-4a93-926d-829d91a96e71",
   "metadata": {},
   "source": [
    "# Ans-\n",
    "A nested dictionary is a dictionary inside another dictionary. It allows hierarchical storage of data, making it useful for structured data representation like databases, JSON, or real-world objects. "
   ]
  },
  {
   "cell_type": "code",
   "execution_count": 8,
   "id": "3095ce08-ed93-4358-adef-cc46f6461733",
   "metadata": {},
   "outputs": [
    {
     "name": "stdout",
     "output_type": "stream",
     "text": [
      "Ritik\n",
      "78\n",
      "90\n"
     ]
    }
   ],
   "source": [
    "# foe example of nested dictionary\n",
    "students = {\n",
    "    \"101\": {\"name\": \"Ritik\", \"age\": 20, \"grades\": {\"math\": 85, \"science\": 90}},\n",
    "    \"102\": {\"name\": \"Rahul\", \"age\": 22, \"grades\": {\"math\": 78, \"science\": 88}},\n",
    "}\n",
    "\n",
    "# Accessing Nested Data\n",
    "print(students[\"101\"][\"name\"])\n",
    "print(students[\"102\"][\"grades\"][\"math\"]) \n",
    "print(students[\"101\"][\"grades\"][\"science\"])\n"
   ]
  },
  {
   "cell_type": "markdown",
   "id": "0219db02-0095-4e23-88da-c4d18602e66c",
   "metadata": {},
   "source": [
    "# 17.  Describe the time complexity of accessing elements in a dictionary?"
   ]
  },
  {
   "cell_type": "markdown",
   "id": "1b867178-eac1-4681-8816-94b077a2063c",
   "metadata": {},
   "source": [
    "# Ans-\n",
    "Accessing elements in a dictionary is very fast due to its underlying hash table implementation and making them ideal for key-value mappings.\n",
    "it has Average Case: O(1) (Constant Time) and Worst Case: O(n) (Linear Time)\n",
    "In most cases, accessing elements in a dictionary is O(1) (very fast) and only in rare cases (hash collisions) can it degrade to O(n)\n"
   ]
  },
  {
   "cell_type": "markdown",
   "id": "6e4f9d9e-ec7e-470e-9ee9-4658f3de489d",
   "metadata": {},
   "source": [
    "# 18. In what situations are lists preferred over dictionaries?\n"
   ]
  },
  {
   "cell_type": "markdown",
   "id": "966715ac-47f5-43c6-9edf-b141098811f1",
   "metadata": {},
   "source": [
    "# Ans-\n",
    "Even though dictionaries are powerful, lists are preferred in certain situations where their simplicity and ordering are beneficial\n",
    "so the situations are-\n",
    "* When Order Matters - Lists maintain strict order\n",
    "* When Indexed Access is Needed – Lists allow fast (O(1)) access by index, unlike dictionaries which require key lookups.\n",
    "* Memory Efficiency - Lists use less memory since they store only values, whereas dictionaries store key-value pairs.\n",
    "* orting & Slicing - Lists support built-in sorting and slicing, making them ideal for ordered data manipulation."
   ]
  },
  {
   "cell_type": "markdown",
   "id": "1f1ecc88-4cc2-4c2a-a844-1ee4b19ba788",
   "metadata": {},
   "source": [
    "# 19. Why are dictionaries considered unordered, and how does that affect data retrieval?"
   ]
  },
  {
   "cell_type": "markdown",
   "id": "058e2c7b-ffa5-413f-b895-3057c450a6f7",
   "metadata": {},
   "source": [
    "# Ans-\n",
    "Before 3.7+ Dictionaries were unordered, meaning key-value pairs could appear in any order,after that Dictionaries maintain insertion order, but they still lack index-based access like lists.\n",
    "How Does This Affect Data Retrieval:-\n",
    "* No Index-Based Access -You must use keys, not positions, to retrieve values.\n",
    "* Fast Lookups (O(1)) - Uses hashing, making retrieval much faster than lists (O(n)).\n",
    "* Maintains Order (Python 3.7+) - Iteration follows insertion order but still doesn’t allow indexing."
   ]
  },
  {
   "cell_type": "markdown",
   "id": "a4cc3a06-f1df-407f-99db-1438f3bf28fc",
   "metadata": {},
   "source": [
    "# 20.  Explain the difference between a list and a dictionary in terms of data retrieval."
   ]
  },
  {
   "cell_type": "markdown",
   "id": "b1f6cf3c-226b-45b2-9297-9c76d7443932",
   "metadata": {},
   "source": [
    "# Ans-\n",
    "* A lists-\n",
    "  ~  It is index-based (list[i]).\n",
    "  ~ It have O(n) (slower) – needs to search through elements.\n",
    "  ~ Maintains strict insertion order.\n",
    "  ~  No key-value mapping.\n",
    "  ~ Best for sequential data.\n",
    "* A dictionary-\n",
    "  ~ It is key-based (dict[key]).\n",
    "  ~ It have O(1) (faster) – uses hashing for quick lookups.\n",
    "  ~ its maintains insertion order (Python 3.7+), unordered before.\n",
    "  ~ It have key-value mapping .\n",
    "  ~ Best for fast lookups & mappings"
   ]
  },
  {
   "cell_type": "markdown",
   "id": "634a4ad6-83ff-4cdf-a953-33dcf0edbea1",
   "metadata": {},
   "source": [
    "# Practical Questions"
   ]
  },
  {
   "cell_type": "markdown",
   "id": "c1119676-635e-4af9-84de-d709ca2e394a",
   "metadata": {},
   "source": [
    "# 1. Write a code to create a string with your name and print it.\n"
   ]
  },
  {
   "cell_type": "code",
   "execution_count": 9,
   "id": "2cdec965-614f-42da-9f3b-b0ebe39a02e6",
   "metadata": {},
   "outputs": [
    {
     "name": "stdout",
     "output_type": "stream",
     "text": [
      "Ritik\n"
     ]
    }
   ],
   "source": [
    "# Ana-\n",
    "myname=(\"Ritik\")\n",
    "print(myname)"
   ]
  },
  {
   "cell_type": "markdown",
   "id": "e837ea88-23af-4a41-9f74-8f25daf988ce",
   "metadata": {},
   "source": [
    "# 2. Write a code to find the length of the string \"Hello World\"."
   ]
  },
  {
   "cell_type": "code",
   "execution_count": 12,
   "id": "a94fa710-63e0-4202-8bb4-da9a07b91a6a",
   "metadata": {},
   "outputs": [
    {
     "name": "stdout",
     "output_type": "stream",
     "text": [
      "11\n"
     ]
    }
   ],
   "source": [
    "My_name=\"Hello World\"\n",
    "print(len(My_name))"
   ]
  },
  {
   "cell_type": "markdown",
   "id": "ac35d900-0a76-4739-9339-989468892427",
   "metadata": {},
   "source": [
    "# 3. Write a code to slice the first 3 characters from the string \"Python Programming\"."
   ]
  },
  {
   "cell_type": "code",
   "execution_count": 14,
   "id": "ef2d051d-445c-409d-8b70-e7ec01926888",
   "metadata": {},
   "outputs": [
    {
     "name": "stdout",
     "output_type": "stream",
     "text": [
      "Pyt\n"
     ]
    }
   ],
   "source": [
    "Myname=\"Python Programming\"\n",
    "print(Myname[0:3])\n"
   ]
  },
  {
   "cell_type": "markdown",
   "id": "48646493-772c-4761-a4dd-fa91bf7aac5e",
   "metadata": {},
   "source": [
    "# 4. Write a code to convert the string \"hello\" to uppercase."
   ]
  },
  {
   "cell_type": "code",
   "execution_count": 16,
   "id": "e19a0ef6-358c-4aab-92a9-1da53a1af82c",
   "metadata": {},
   "outputs": [
    {
     "name": "stdout",
     "output_type": "stream",
     "text": [
      "HELLO\n"
     ]
    }
   ],
   "source": [
    "Myname=\"hello\"\n",
    "print(Myname.upper())"
   ]
  },
  {
   "cell_type": "markdown",
   "id": "9039fba8-cb8b-4802-bfd3-c7bc7d476194",
   "metadata": {},
   "source": [
    "# 5. Write a code to replace the word \"apple\" with \"orange\" in the string \"I like apple\"?"
   ]
  },
  {
   "cell_type": "code",
   "execution_count": 18,
   "id": "c1bc0585-df36-4306-b7f8-839ac72d658c",
   "metadata": {},
   "outputs": [
    {
     "name": "stdout",
     "output_type": "stream",
     "text": [
      "I like orange\n"
     ]
    }
   ],
   "source": [
    "code=\"I like apple\"\n",
    "New_code=code.replace(\"apple\",\"orange\")\n",
    "print(New_code)"
   ]
  },
  {
   "cell_type": "markdown",
   "id": "01e16667-5622-4e9b-918c-6ac31f1c9d27",
   "metadata": {},
   "source": [
    "# 6.  Write a code to create a list with numbers 1 to 5 and print it?\n",
    "\n"
   ]
  },
  {
   "cell_type": "code",
   "execution_count": 19,
   "id": "aa96860f-933c-4cbf-9955-d6d1e8429e31",
   "metadata": {},
   "outputs": [
    {
     "name": "stdout",
     "output_type": "stream",
     "text": [
      "[1, 2, 3, 4, 5]\n"
     ]
    }
   ],
   "source": [
    "l = [1,2,3,4,5]\n",
    "print(l)"
   ]
  },
  {
   "cell_type": "markdown",
   "id": "8636ccfa-f297-419c-9681-83388e30848d",
   "metadata": {},
   "source": [
    "# 7.  Write a code to append the number 10 to the list [1, 2, 3, 4]?"
   ]
  },
  {
   "cell_type": "code",
   "execution_count": 22,
   "id": "8c8377cc-a128-4206-a8e5-f9a7c9439d22",
   "metadata": {},
   "outputs": [
    {
     "name": "stdout",
     "output_type": "stream",
     "text": [
      "[1, 2, 3, 4, 10]\n"
     ]
    }
   ],
   "source": [
    "l = [1,2,3,4]\n",
    "l.append(10)\n",
    "print(l)"
   ]
  },
  {
   "cell_type": "markdown",
   "id": "2984a7a2-1e3d-4afc-a74d-40e78f7aea34",
   "metadata": {},
   "source": [
    "# 8. Write a code to remove the number 3 from the list [1, 2, 3, 4, 5]"
   ]
  },
  {
   "cell_type": "code",
   "execution_count": 27,
   "id": "0e7d39f3-4caa-4b37-85b7-bc90ac6b449d",
   "metadata": {},
   "outputs": [
    {
     "name": "stdout",
     "output_type": "stream",
     "text": [
      "[1, 2, 4, 5]\n"
     ]
    }
   ],
   "source": [
    "L = [1,2,3,4,5]\n",
    "L.remove(3)\n",
    "print(L)"
   ]
  },
  {
   "cell_type": "markdown",
   "id": "c5451a54-9895-412f-a185-b3d70fbfeea2",
   "metadata": {},
   "source": [
    "# 9. Write a code to access the second element in the list ['a', 'b', 'c', 'd']?\n"
   ]
  },
  {
   "cell_type": "code",
   "execution_count": 30,
   "id": "137f034c-c8d6-42a7-b696-7f52a844a496",
   "metadata": {},
   "outputs": [
    {
     "name": "stdout",
     "output_type": "stream",
     "text": [
      "b\n"
     ]
    }
   ],
   "source": [
    "L = ['a','b','c','d']\n",
    "print(L[1])"
   ]
  },
  {
   "cell_type": "markdown",
   "id": "aab06c1d-df8f-4095-a3cc-e877dff724ad",
   "metadata": {},
   "source": [
    "# 10.  Write a code to reverse the list [10, 20, 30, 40, 50]."
   ]
  },
  {
   "cell_type": "code",
   "execution_count": 34,
   "id": "f5ea4469-742d-4588-b7f0-ab95a0f875f3",
   "metadata": {},
   "outputs": [
    {
     "name": "stdout",
     "output_type": "stream",
     "text": [
      "[50, 40, 30, 20, 10]\n"
     ]
    }
   ],
   "source": [
    "L = [10,20,30,40,50]\n",
    "reverse_L = L[::-1]\n",
    "print(reverse_L)"
   ]
  },
  {
   "cell_type": "markdown",
   "id": "f885a0bc-c81a-49d0-9371-e8f895573ad7",
   "metadata": {},
   "source": [
    "# 11. Write a code to create a tuple with the elements 100, 200, 300 and print it."
   ]
  },
  {
   "cell_type": "code",
   "execution_count": 5,
   "id": "aaa954c3-5808-4542-872b-54eba480ac54",
   "metadata": {},
   "outputs": [
    {
     "name": "stdout",
     "output_type": "stream",
     "text": [
      "(100, 200, 300)\n"
     ]
    }
   ],
   "source": [
    "L = (100,200,300)\n",
    "print(L)"
   ]
  },
  {
   "cell_type": "markdown",
   "id": "ec671703-f9a2-49bb-a562-3c442b55a38e",
   "metadata": {},
   "source": [
    "# 12. . Write a code to access the second-to-last element of the tuple ('red', 'green', 'blue', 'yellow')."
   ]
  },
  {
   "cell_type": "code",
   "execution_count": 6,
   "id": "c4944199-f3a6-4d96-b224-5c5c18217956",
   "metadata": {},
   "outputs": [
    {
     "name": "stdout",
     "output_type": "stream",
     "text": [
      "blue\n"
     ]
    }
   ],
   "source": [
    "L = ('red','green','blue','yellow')\n",
    "second_last =L[-2]\n",
    "print(second_last)"
   ]
  },
  {
   "cell_type": "markdown",
   "id": "591d199e-3a4c-4728-947b-acd0ed073c24",
   "metadata": {},
   "source": [
    "# 13. Write a code to find the minimum number in the tuple (10, 20, 5, 15)."
   ]
  },
  {
   "cell_type": "code",
   "execution_count": 7,
   "id": "5eba490c-bbc1-4708-aad0-6339d586e942",
   "metadata": {},
   "outputs": [
    {
     "name": "stdout",
     "output_type": "stream",
     "text": [
      "Minimum number: 5\n"
     ]
    }
   ],
   "source": [
    "numbers = (10,20,5,15)\n",
    "min_number = min(numbers)\n",
    "print(\"Minimum number:\", min_number)"
   ]
  },
  {
   "cell_type": "markdown",
   "id": "124a1151-4706-44f1-bc6c-022d8ee9e319",
   "metadata": {},
   "source": [
    "# 14. . Write a code to find the index of the element \"cat\" in the tuple ('dog', 'cat', 'rabbit')."
   ]
  },
  {
   "cell_type": "code",
   "execution_count": 9,
   "id": "f4947cfc-295c-4fc9-9616-4904134c9ca1",
   "metadata": {},
   "outputs": [
    {
     "name": "stdout",
     "output_type": "stream",
     "text": [
      "Index of 'cat': 1\n"
     ]
    }
   ],
   "source": [
    "Animals = ('dog','cat','rabbit')\n",
    "index_of_cat = Animals.index('cat')\n",
    "print(\"Index of 'cat':\", index_of_cat)\n"
   ]
  },
  {
   "cell_type": "markdown",
   "id": "1904a675-fa98-4e60-b04f-9edc0600a9d1",
   "metadata": {},
   "source": [
    "# 15 .  Write a code to create a tuple containing three different fruits and check if \"kiwi\" is in it."
   ]
  },
  {
   "cell_type": "code",
   "execution_count": 11,
   "id": "15f05d0e-f1f2-4ad6-81d5-bd9906b8a616",
   "metadata": {},
   "outputs": [
    {
     "name": "stdout",
     "output_type": "stream",
     "text": [
      "kiwi is in it\n"
     ]
    }
   ],
   "source": [
    "Fruits = ('mango','banana','kiwi')\n",
    "if 'kiwi' in Fruits:\n",
    "    print(\"kiwi is in it\")\n",
    "else:\n",
    "    print(\"kiwi isn't in it\")\n"
   ]
  },
  {
   "cell_type": "markdown",
   "id": "2c9dce97-0b5f-436e-ab24-f271857cda9a",
   "metadata": {},
   "source": [
    "# 16.  Write a code to create a set with the elements 'a', 'b', 'c' and print it."
   ]
  },
  {
   "cell_type": "code",
   "execution_count": 13,
   "id": "00363b0d-aa26-4b36-bfbb-48d2f35c5e88",
   "metadata": {},
   "outputs": [
    {
     "name": "stdout",
     "output_type": "stream",
     "text": [
      "{'b', 'a', 'c'}\n"
     ]
    }
   ],
   "source": [
    "elements = {'a','b','c'}\n",
    "print(elements) # sets mai order fix nhi hota"
   ]
  },
  {
   "cell_type": "markdown",
   "id": "770794fd-b446-48c3-af29-47e82263c3f5",
   "metadata": {},
   "source": [
    "# 17.  Write a code to clear all elements from the set {1, 2, 3, 4, 5}."
   ]
  },
  {
   "cell_type": "code",
   "execution_count": 19,
   "id": "dad8e604-bb6c-4d6f-aa74-9997905c1c30",
   "metadata": {},
   "outputs": [
    {
     "name": "stdout",
     "output_type": "stream",
     "text": [
      "set()\n"
     ]
    }
   ],
   "source": [
    "elements = {1,2,3,4,5}\n",
    "elements.clear()\n",
    "print(elements)"
   ]
  },
  {
   "cell_type": "markdown",
   "id": "68f22be6-8dbf-474a-b693-2c6567527f46",
   "metadata": {},
   "source": [
    "# 18 . Write a code to remove the element 4 from the set {1, 2, 3, 4}."
   ]
  },
  {
   "cell_type": "code",
   "execution_count": 25,
   "id": "ed1ec88e-9d2c-49e7-883c-57c96dfffbfb",
   "metadata": {},
   "outputs": [
    {
     "name": "stdout",
     "output_type": "stream",
     "text": [
      "{1, 2, 3}\n"
     ]
    }
   ],
   "source": [
    "Elements = {1,2,3,4}\n",
    "Elements.remove(4)\n",
    "print(Elements)"
   ]
  },
  {
   "cell_type": "markdown",
   "id": "1ec516db-471b-48f6-9a27-806086f9c69b",
   "metadata": {},
   "source": [
    "# 19.  Write a code to find the union of two sets {1, 2, 3} and {3, 4, 5}."
   ]
  },
  {
   "cell_type": "code",
   "execution_count": 32,
   "id": "90c60702-e218-4705-977e-42fd9313a5ad",
   "metadata": {},
   "outputs": [
    {
     "name": "stdout",
     "output_type": "stream",
     "text": [
      "union: {1, 2, 3, 4, 5}\n"
     ]
    }
   ],
   "source": [
    "A = {1,2,3}\n",
    "B = {3,4,5}\n",
    "union = A.union(B)\n",
    "print(\"union:\", union_set)"
   ]
  },
  {
   "cell_type": "markdown",
   "id": "0f474cb6-5964-4f71-b685-01944580d19e",
   "metadata": {},
   "source": [
    "# 20.  Write a code to find the intersection of two sets {1, 2, 3} and {2, 3, 4}."
   ]
  },
  {
   "cell_type": "code",
   "execution_count": 33,
   "id": "b8e72f56-16d1-4dcc-99d8-e97553afb39b",
   "metadata": {},
   "outputs": [
    {
     "name": "stdout",
     "output_type": "stream",
     "text": [
      "{2, 3}\n"
     ]
    }
   ],
   "source": [
    "set = {1,2,3}\n",
    "set1 = {2,3,4}\n",
    "intersection_sets = set.intersection(set1)\n",
    "print(intersection_sets )"
   ]
  },
  {
   "cell_type": "markdown",
   "id": "5aae85b8-767b-4d5c-af32-4cf1056b43ca",
   "metadata": {},
   "source": [
    "# 21.  Write a code to create a dictionary with the keys \"name\", \"age\", and \"city\", and print it."
   ]
  },
  {
   "cell_type": "code",
   "execution_count": 34,
   "id": "05c49719-9839-4004-89e2-3c0ebbac5ef7",
   "metadata": {},
   "outputs": [
    {
     "name": "stdout",
     "output_type": "stream",
     "text": [
      "{'name': 'Ritik', 'age': 21, 'city': 'Muzaffarpur'}\n"
     ]
    }
   ],
   "source": [
    "person = {\n",
    "    \"name\": \"Ritik\",\n",
    "    \"age\": 21,\n",
    "    \"city\": \"Muzaffarpur\"\n",
    "}\n",
    "print(person)\n"
   ]
  },
  {
   "cell_type": "markdown",
   "id": "d22d29a9-c287-4dc8-941e-e7312ed0120f",
   "metadata": {},
   "source": [
    "# 22. Write a code to add a new key-value pair \"country\": \"USA\" to the dictionary {'name': 'John', 'age': 25}."
   ]
  },
  {
   "cell_type": "code",
   "execution_count": 35,
   "id": "0811413e-d311-4035-8d12-a1367d74cbf3",
   "metadata": {},
   "outputs": [
    {
     "name": "stdout",
     "output_type": "stream",
     "text": [
      "{'name': 'John', 'age': 25, 'country': 'USA'}\n"
     ]
    }
   ],
   "source": [
    "person = {\n",
    "    \"name\": \"John\",\n",
    "    \"age\": 25,\n",
    "}\n",
    "person[\"country\"]= \"USA\"\n",
    "print(person)"
   ]
  },
  {
   "cell_type": "markdown",
   "id": "4ed94b05-02df-45ab-b228-0a0ca16fd49d",
   "metadata": {},
   "source": [
    "# 23. Write a code to access the value associated with the key \"name\" in the dictionary {'name': 'Alice', 'age': 30}."
   ]
  },
  {
   "cell_type": "code",
   "execution_count": 37,
   "id": "9ed8d3b3-7972-4146-930d-237968cb484d",
   "metadata": {},
   "outputs": [
    {
     "name": "stdout",
     "output_type": "stream",
     "text": [
      "Name: Alice\n"
     ]
    }
   ],
   "source": [
    "person = {'name': 'Alice', 'age': 30}\n",
    "name_value = person['name']\n",
    "print(\"Name:\", name_value)\n"
   ]
  },
  {
   "cell_type": "markdown",
   "id": "046e2ba4-bbf4-4528-9bdf-3893b2ddbf5e",
   "metadata": {},
   "source": [
    "# 24.  Write a code to remove the key \"age\" from the dictionary {'name': 'Bob', 'age': 22, 'city': 'New York'}."
   ]
  },
  {
   "cell_type": "code",
   "execution_count": 41,
   "id": "96f1d262-4fba-467c-b9e1-d00da2551986",
   "metadata": {},
   "outputs": [
    {
     "name": "stdout",
     "output_type": "stream",
     "text": [
      "{'name': 'Bob', 'city': 'New York'}\n"
     ]
    }
   ],
   "source": [
    "person = {'name': 'Bob', 'age': 22, 'city': 'New York'}\n",
    "person.pop('age')\n",
    "print(person)"
   ]
  },
  {
   "cell_type": "markdown",
   "id": "391ac065-dd17-476f-aa18-97b983ddc21b",
   "metadata": {},
   "source": [
    "# 25. Write a code to check if the key \"city\" exists in the dictionary {'name': 'Alice', 'city': 'Paris'}."
   ]
  },
  {
   "cell_type": "code",
   "execution_count": 42,
   "id": "387c0041-973a-488c-b1f5-cbdfae54fa74",
   "metadata": {},
   "outputs": [
    {
     "name": "stdout",
     "output_type": "stream",
     "text": [
      "'city' key exists in the dictionary\n"
     ]
    }
   ],
   "source": [
    "person = {'name': 'Alice', 'city': 'Paris'}\n",
    "if 'city' in person:\n",
    "    print(\"'city' key exists in the dictionary\")\n",
    "else:\n",
    "    print(\"'city' key does not exist in the dictionary\")\n"
   ]
  },
  {
   "cell_type": "markdown",
   "id": "5c90dc1a-111b-4eb4-bc26-9e096c4d2ae4",
   "metadata": {},
   "source": [
    "# 26.  Write a code to create a list, a tuple, and a dictionary, and print them all."
   ]
  },
  {
   "cell_type": "code",
   "execution_count": 43,
   "id": "07d154cd-5375-476b-819f-8aac5cb668dc",
   "metadata": {},
   "outputs": [
    {
     "name": "stdout",
     "output_type": "stream",
     "text": [
      "List: [1, 2, 3, 4, 5]\n",
      "Tuple: (10, 20, 30, 40, 50)\n",
      "Dictionary: {'name': 'Alice', 'age': 25, 'city': 'New York'}\n"
     ]
    }
   ],
   "source": [
    "my_list = [1, 2, 3, 4, 5]\n",
    "my_tuple = (10, 20, 30, 40, 50)\n",
    "my_dict = {'name': 'Alice', 'age': 25, 'city': 'New York'}\n",
    "print(\"List:\", my_list)\n",
    "print(\"Tuple:\", my_tuple)\n",
    "print(\"Dictionary:\", my_dict)"
   ]
  },
  {
   "cell_type": "markdown",
   "id": "77c4ceb2-032a-488e-a07e-be678d4c790a",
   "metadata": {},
   "source": [
    "# 27. . Write a code to create a list of 5 random numbers between 1 and 100, sort it in ascending order, and print the result.(replaced)"
   ]
  },
  {
   "cell_type": "code",
   "execution_count": 44,
   "id": "7e9201a7-c8cf-47e3-8529-678cfdc3f8cf",
   "metadata": {},
   "outputs": [
    {
     "name": "stdout",
     "output_type": "stream",
     "text": [
      "Sorted Random Numbers: [23, 28, 81, 83, 93]\n"
     ]
    }
   ],
   "source": [
    "import random \n",
    "random_numbers = [random.randint(1, 100) for _ in range(5)]\n",
    "random_numbers.sort()\n",
    "print(\"Sorted Random Numbers:\", random_numbers)\n"
   ]
  },
  {
   "cell_type": "markdown",
   "id": "c10f065b-7a04-42bc-b7d5-7cda3af6a359",
   "metadata": {},
   "source": [
    "# 28.  Write a code to create a list with strings and print the element at the third index."
   ]
  },
  {
   "cell_type": "code",
   "execution_count": 45,
   "id": "9b5426a0-faaa-4629-b1c8-1ebcf76d8bbf",
   "metadata": {},
   "outputs": [
    {
     "name": "stdout",
     "output_type": "stream",
     "text": [
      "Element at index 3: Mango\n"
     ]
    }
   ],
   "source": [
    "fruits = [\"Apple\", \"Banana\", \"Cherry\", \"Mango\", \"Orange\"]\n",
    "print(\"Element at index 3:\", fruits[3])"
   ]
  },
  {
   "cell_type": "markdown",
   "id": "654ed67f-fc30-4ace-bbbe-2e87403e2cef",
   "metadata": {},
   "source": [
    "# 29.  Write a code to combine two dictionaries into one and print the result."
   ]
  },
  {
   "cell_type": "code",
   "execution_count": 63,
   "id": "5d14a7d5-9f7e-4684-ad4a-79e2ce454796",
   "metadata": {},
   "outputs": [
    {
     "name": "stdout",
     "output_type": "stream",
     "text": [
      "Merged Dictionary: {'a': 1, 'b': 2, 'c': 3, 'd': 4}\n"
     ]
    }
   ],
   "source": [
    "dict1 = {'a': 1, 'b': 2}\n",
    "dict2 = {'c': 3, 'd': 4}\n",
    "dict1.update(dict2)\n",
    "print(\"Merged Dictionary:\", dict1)\n"
   ]
  },
  {
   "cell_type": "markdown",
   "id": "223af25d-f741-4c29-8822-7b358fa9faa9",
   "metadata": {},
   "source": [
    "# 30. Write a code to convert a list of strings into a set."
   ]
  },
  {
   "cell_type": "code",
   "execution_count": 1,
   "id": "75a1b2a8-af48-43ad-b8aa-b6a46428c8e6",
   "metadata": {},
   "outputs": [
    {
     "name": "stdout",
     "output_type": "stream",
     "text": [
      "Converted Set: {'Sohan', 'Sonu', 'Ritik'}\n"
     ]
    }
   ],
   "source": [
    "names = [\"Ritik\", \"Sonu\", \"Sohan\"]  \n",
    "string_set = set(names)  \n",
    "print(\"Converted Set:\", string_set)"
   ]
  }
 ],
 "metadata": {
  "kernelspec": {
   "display_name": "Python 3 (ipykernel)",
   "language": "python",
   "name": "python3"
  },
  "language_info": {
   "codemirror_mode": {
    "name": "ipython",
    "version": 3
   },
   "file_extension": ".py",
   "mimetype": "text/x-python",
   "name": "python",
   "nbconvert_exporter": "python",
   "pygments_lexer": "ipython3",
   "version": "3.11.7"
  }
 },
 "nbformat": 4,
 "nbformat_minor": 5
}
